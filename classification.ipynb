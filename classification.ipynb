{
 "metadata": {
  "language_info": {
   "codemirror_mode": {
    "name": "ipython",
    "version": 3
   },
   "file_extension": ".py",
   "mimetype": "text/x-python",
   "name": "python",
   "nbconvert_exporter": "python",
   "pygments_lexer": "ipython3",
   "version": "3.8.0-final"
  },
  "orig_nbformat": 2,
  "kernelspec": {
   "name": "python3",
   "display_name": "Python 3.8.0 64-bit",
   "metadata": {
    "interpreter": {
     "hash": "082e9a3bcad0a290d0001e938aa60b99250c6c2ef33a923c00b70f9826caf4b7"
    }
   }
  }
 },
 "nbformat": 4,
 "nbformat_minor": 2,
 "cells": [
  {
   "cell_type": "code",
   "execution_count": 8,
   "metadata": {},
   "outputs": [],
   "source": [
    "# feature extractoring and preprocessing data\n",
    "import librosa\n",
    "import pandas as pd\n",
    "import numpy as np\n",
    "import matplotlib.pyplot as plt\n",
    "%matplotlib inline\n",
    "import os\n",
    "from PIL import Image\n",
    "import pathlib\n",
    "import csv\n",
    "\n",
    "# Preprocessing\n",
    "from sklearn.model_selection import train_test_split\n",
    "from sklearn.preprocessing import LabelEncoder, StandardScaler\n",
    "\n",
    "#Keras\n",
    "import keras\n",
    "\n",
    "import warnings\n",
    "warnings.filterwarnings('ignore')"
   ]
  },
  {
   "cell_type": "code",
   "execution_count": 6,
   "metadata": {},
   "outputs": [
    {
     "output_type": "display_data",
     "data": {
      "text/plain": "<Figure size 720x720 with 0 Axes>"
     },
     "metadata": {}
    }
   ],
   "source": [
    "# extracting the spectrogram for every audio file\n",
    "# and save by genre into a directory called img_data\n",
    "cmap = plt.get_cmap('inferno')\n",
    "\n",
    "plt.figure(figsize=(10,10))\n",
    "genres = 'blues classical country disco hiphop jazz metal pop reggae rock'.split()\n",
    "for g in genres:\n",
    "    pathlib.Path(f'img_data/{g}').mkdir(parents=True, exist_ok=True)     \n",
    "    for filename in os.listdir(f'./genres/{g}'):\n",
    "        songname = f'./genres/{g}/{filename}'\n",
    "        y, sr = librosa.load(songname, mono=True, duration=5)\n",
    "        plt.specgram(y, NFFT=2048, Fs=2, Fc=0, noverlap=128, cmap=cmap, sides='default', mode='default', scale='dB');\n",
    "        plt.axis('off');\n",
    "        plt.savefig(f'img_data/{g}/{filename[:-3].replace(\".\", \"\")}.png')\n",
    "        plt.clf()\n"
   ]
  },
  {
   "cell_type": "code",
   "execution_count": 11,
   "metadata": {},
   "outputs": [],
   "source": [
    "# extracting features from each spectrogram\n",
    "# We will extract: \n",
    "#   Mel-frequency cepstral coefficients (MFCC)(20 in number)\n",
    "#   Spectral Centroid\n",
    "#   Zero Crossing Rate\n",
    "#   Chroma Frequencies\n",
    "#   Spectral Roll-off\n",
    "\n",
    "header = 'filename chroma_stft spectra_centroid spectral_bandwidth rolloff zero_crossing_rate'\n",
    "\n",
    "for i in range(1, 21):\n",
    "    header += f' mfcc{i}'\n",
    "header += ' label'\n",
    "header = header.split()\n",
    "\n",
    "# writing data to a csv file\n",
    "file = open('data.csv', 'w', newline='')\n",
    "with file:\n",
    "    writer = csv.writer(file)\n",
    "    writer.writerow(header)\n",
    "genres = 'blues classical country disco hiphop jazz metal pop reggae rock'.split()\n",
    "for g in genres:\n",
    "    for filename in os.listdir(f'./genres/{g}'):\n",
    "        songname = f'./genres/{g}/{filename}'\n",
    "        y, sr = librosa.load(songname, mono=True, duration=30)\n",
    "        chroma_stft = librosa.feature.chroma_stft(y=y, sr=sr)\n",
    "        rms = librosa.feature.rms(y=y)\n",
    "        spec_cent = librosa.feature.spectral_centroid(y=y, sr=sr)\n",
    "        spec_bw = librosa.feature.spectral_bandwidth(y=y, sr=sr)\n",
    "        rolloff = librosa.feature.spectral_rolloff(y=y, sr=sr)\n",
    "        zcr = librosa.feature.zero_crossing_rate(y)\n",
    "        mfcc = librosa.feature.mfcc(y=y, sr=sr)\n",
    "        to_append = f'{filename} {np.mean(chroma_stft)} {np.mean(rms)} {np.mean(spec_cent)} {np.mean(spec_bw)} {np.mean(rolloff)} {np.mean(zcr)}'    \n",
    "        for e in mfcc:\n",
    "            to_append += f' {np.mean(e)}'\n",
    "        to_append += f' {g}'\n",
    "        file = open('data.csv', 'a', newline='')\n",
    "        with file:\n",
    "            writer = csv.writer(file)\n",
    "            writer.writerow(to_append.split())"
   ]
  },
  {
   "cell_type": "code",
   "execution_count": 12,
   "metadata": {},
   "outputs": [
    {
     "output_type": "execute_result",
     "data": {
      "text/plain": [
       "                 filename  chroma_stft  spectra_centroid  spectral_bandwidth  \\\n",
       "blues.00093.wav  0.377690     0.065906        569.930721          995.407125   \n",
       "blues.00087.wav  0.336773     0.158098       1442.190271         1870.534155   \n",
       "blues.00050.wav  0.400860     0.182380       1945.848425         2082.246626   \n",
       "blues.00044.wav  0.390212     0.136276       2279.124558         2375.102120   \n",
       "blues.00078.wav  0.414188     0.258052       2333.685108         2227.425609   \n",
       "\n",
       "                     rolloff  zero_crossing_rate       mfcc1       mfcc2  \\\n",
       "blues.00093.wav   927.427725            0.021701 -350.436188  169.545746   \n",
       "blues.00087.wav  3083.414688            0.050889 -155.504929  125.638863   \n",
       "blues.00050.wav  4175.874749            0.085806  -82.979019  107.052124   \n",
       "blues.00044.wav  5198.360233            0.092570 -109.509285   86.922409   \n",
       "blues.00078.wav  4942.811778            0.123863   -2.524339  101.252716   \n",
       "\n",
       "                     mfcc3      mfcc4  ...     mfcc12     mfcc13    mfcc14  \\\n",
       "blues.00093.wav  31.820370  16.682835  ...   1.821690  -5.970891 -5.259567   \n",
       "blues.00087.wav   1.596553  45.804520  ...  -0.792893  -7.748057  0.413548   \n",
       "blues.00050.wav -25.320452  57.124989  ...  12.539581  -9.762303  2.562253   \n",
       "blues.00044.wav  -8.607987  64.494560  ...  11.087481  -5.085794  3.976360   \n",
       "blues.00078.wav -33.924385  41.516888  ...  12.506608 -13.368823  6.112817   \n",
       "\n",
       "                    mfcc15     mfcc16     mfcc17    mfcc18    mfcc19  \\\n",
       "blues.00093.wav  -0.229211  -1.776850  -3.713751  0.181591  2.072390   \n",
       "blues.00087.wav  -7.030262   3.997679  -6.256611  0.958227  2.019821   \n",
       "blues.00050.wav  -6.300853   2.996785  -8.718455 -0.326581 -2.980347   \n",
       "blues.00044.wav -12.859742  12.343859   0.026216 -0.741568 -5.126620   \n",
       "blues.00078.wav  -9.065890   5.033774 -11.330277  3.166534 -4.567592   \n",
       "\n",
       "                   mfcc20  label  \n",
       "blues.00093.wav -2.896225  blues  \n",
       "blues.00087.wav -5.742188  blues  \n",
       "blues.00050.wav  0.712600  blues  \n",
       "blues.00044.wav  3.303442  blues  \n",
       "blues.00078.wav -4.033623  blues  \n",
       "\n",
       "[5 rows x 27 columns]"
      ],
      "text/html": "<div>\n<style scoped>\n    .dataframe tbody tr th:only-of-type {\n        vertical-align: middle;\n    }\n\n    .dataframe tbody tr th {\n        vertical-align: top;\n    }\n\n    .dataframe thead th {\n        text-align: right;\n    }\n</style>\n<table border=\"1\" class=\"dataframe\">\n  <thead>\n    <tr style=\"text-align: right;\">\n      <th></th>\n      <th>filename</th>\n      <th>chroma_stft</th>\n      <th>spectra_centroid</th>\n      <th>spectral_bandwidth</th>\n      <th>rolloff</th>\n      <th>zero_crossing_rate</th>\n      <th>mfcc1</th>\n      <th>mfcc2</th>\n      <th>mfcc3</th>\n      <th>mfcc4</th>\n      <th>...</th>\n      <th>mfcc12</th>\n      <th>mfcc13</th>\n      <th>mfcc14</th>\n      <th>mfcc15</th>\n      <th>mfcc16</th>\n      <th>mfcc17</th>\n      <th>mfcc18</th>\n      <th>mfcc19</th>\n      <th>mfcc20</th>\n      <th>label</th>\n    </tr>\n  </thead>\n  <tbody>\n    <tr>\n      <th>blues.00093.wav</th>\n      <td>0.377690</td>\n      <td>0.065906</td>\n      <td>569.930721</td>\n      <td>995.407125</td>\n      <td>927.427725</td>\n      <td>0.021701</td>\n      <td>-350.436188</td>\n      <td>169.545746</td>\n      <td>31.820370</td>\n      <td>16.682835</td>\n      <td>...</td>\n      <td>1.821690</td>\n      <td>-5.970891</td>\n      <td>-5.259567</td>\n      <td>-0.229211</td>\n      <td>-1.776850</td>\n      <td>-3.713751</td>\n      <td>0.181591</td>\n      <td>2.072390</td>\n      <td>-2.896225</td>\n      <td>blues</td>\n    </tr>\n    <tr>\n      <th>blues.00087.wav</th>\n      <td>0.336773</td>\n      <td>0.158098</td>\n      <td>1442.190271</td>\n      <td>1870.534155</td>\n      <td>3083.414688</td>\n      <td>0.050889</td>\n      <td>-155.504929</td>\n      <td>125.638863</td>\n      <td>1.596553</td>\n      <td>45.804520</td>\n      <td>...</td>\n      <td>-0.792893</td>\n      <td>-7.748057</td>\n      <td>0.413548</td>\n      <td>-7.030262</td>\n      <td>3.997679</td>\n      <td>-6.256611</td>\n      <td>0.958227</td>\n      <td>2.019821</td>\n      <td>-5.742188</td>\n      <td>blues</td>\n    </tr>\n    <tr>\n      <th>blues.00050.wav</th>\n      <td>0.400860</td>\n      <td>0.182380</td>\n      <td>1945.848425</td>\n      <td>2082.246626</td>\n      <td>4175.874749</td>\n      <td>0.085806</td>\n      <td>-82.979019</td>\n      <td>107.052124</td>\n      <td>-25.320452</td>\n      <td>57.124989</td>\n      <td>...</td>\n      <td>12.539581</td>\n      <td>-9.762303</td>\n      <td>2.562253</td>\n      <td>-6.300853</td>\n      <td>2.996785</td>\n      <td>-8.718455</td>\n      <td>-0.326581</td>\n      <td>-2.980347</td>\n      <td>0.712600</td>\n      <td>blues</td>\n    </tr>\n    <tr>\n      <th>blues.00044.wav</th>\n      <td>0.390212</td>\n      <td>0.136276</td>\n      <td>2279.124558</td>\n      <td>2375.102120</td>\n      <td>5198.360233</td>\n      <td>0.092570</td>\n      <td>-109.509285</td>\n      <td>86.922409</td>\n      <td>-8.607987</td>\n      <td>64.494560</td>\n      <td>...</td>\n      <td>11.087481</td>\n      <td>-5.085794</td>\n      <td>3.976360</td>\n      <td>-12.859742</td>\n      <td>12.343859</td>\n      <td>0.026216</td>\n      <td>-0.741568</td>\n      <td>-5.126620</td>\n      <td>3.303442</td>\n      <td>blues</td>\n    </tr>\n    <tr>\n      <th>blues.00078.wav</th>\n      <td>0.414188</td>\n      <td>0.258052</td>\n      <td>2333.685108</td>\n      <td>2227.425609</td>\n      <td>4942.811778</td>\n      <td>0.123863</td>\n      <td>-2.524339</td>\n      <td>101.252716</td>\n      <td>-33.924385</td>\n      <td>41.516888</td>\n      <td>...</td>\n      <td>12.506608</td>\n      <td>-13.368823</td>\n      <td>6.112817</td>\n      <td>-9.065890</td>\n      <td>5.033774</td>\n      <td>-11.330277</td>\n      <td>3.166534</td>\n      <td>-4.567592</td>\n      <td>-4.033623</td>\n      <td>blues</td>\n    </tr>\n  </tbody>\n</table>\n<p>5 rows × 27 columns</p>\n</div>"
     },
     "metadata": {},
     "execution_count": 12
    }
   ],
   "source": [
    "# analyze the data using pandas\n",
    "data = pd.read_csv('data.csv')\n",
    "\n",
    "data.head()"
   ]
  },
  {
   "cell_type": "code",
   "execution_count": 13,
   "metadata": {},
   "outputs": [
    {
     "output_type": "execute_result",
     "data": {
      "text/plain": [
       "(1000, 27)"
      ]
     },
     "metadata": {},
     "execution_count": 13
    }
   ],
   "source": [
    "data.shape"
   ]
  },
  {
   "cell_type": "code",
   "execution_count": 16,
   "metadata": {},
   "outputs": [
    {
     "output_type": "execute_result",
     "data": {
      "text/plain": [
       "                 chroma_stft  spectra_centroid  spectral_bandwidth  \\\n",
       "blues.00093.wav     0.065906        569.930721          995.407125   \n",
       "blues.00087.wav     0.158098       1442.190271         1870.534155   \n",
       "blues.00050.wav     0.182380       1945.848425         2082.246626   \n",
       "blues.00044.wav     0.136276       2279.124558         2375.102120   \n",
       "blues.00078.wav     0.258052       2333.685108         2227.425609   \n",
       "\n",
       "                     rolloff  zero_crossing_rate       mfcc1       mfcc2  \\\n",
       "blues.00093.wav   927.427725            0.021701 -350.436188  169.545746   \n",
       "blues.00087.wav  3083.414688            0.050889 -155.504929  125.638863   \n",
       "blues.00050.wav  4175.874749            0.085806  -82.979019  107.052124   \n",
       "blues.00044.wav  5198.360233            0.092570 -109.509285   86.922409   \n",
       "blues.00078.wav  4942.811778            0.123863   -2.524339  101.252716   \n",
       "\n",
       "                     mfcc3      mfcc4      mfcc5  ...     mfcc12     mfcc13  \\\n",
       "blues.00093.wav  31.820370  16.682835  28.710146  ...   1.821690  -5.970891   \n",
       "blues.00087.wav   1.596553  45.804520   0.900778  ...  -0.792893  -7.748057   \n",
       "blues.00050.wav -25.320452  57.124989   0.085439  ...  12.539581  -9.762303   \n",
       "blues.00044.wav  -8.607987  64.494560  -6.304127  ...  11.087481  -5.085794   \n",
       "blues.00078.wav -33.924385  41.516888 -13.804996  ...  12.506608 -13.368823   \n",
       "\n",
       "                   mfcc14     mfcc15     mfcc16     mfcc17    mfcc18  \\\n",
       "blues.00093.wav -5.259567  -0.229211  -1.776850  -3.713751  0.181591   \n",
       "blues.00087.wav  0.413548  -7.030262   3.997679  -6.256611  0.958227   \n",
       "blues.00050.wav  2.562253  -6.300853   2.996785  -8.718455 -0.326581   \n",
       "blues.00044.wav  3.976360 -12.859742  12.343859   0.026216 -0.741568   \n",
       "blues.00078.wav  6.112817  -9.065890   5.033774 -11.330277  3.166534   \n",
       "\n",
       "                   mfcc19    mfcc20  label  \n",
       "blues.00093.wav  2.072390 -2.896225  blues  \n",
       "blues.00087.wav  2.019821 -5.742188  blues  \n",
       "blues.00050.wav -2.980347  0.712600  blues  \n",
       "blues.00044.wav -5.126620  3.303442  blues  \n",
       "blues.00078.wav -4.567592 -4.033623  blues  \n",
       "\n",
       "[5 rows x 26 columns]"
      ],
      "text/html": "<div>\n<style scoped>\n    .dataframe tbody tr th:only-of-type {\n        vertical-align: middle;\n    }\n\n    .dataframe tbody tr th {\n        vertical-align: top;\n    }\n\n    .dataframe thead th {\n        text-align: right;\n    }\n</style>\n<table border=\"1\" class=\"dataframe\">\n  <thead>\n    <tr style=\"text-align: right;\">\n      <th></th>\n      <th>chroma_stft</th>\n      <th>spectra_centroid</th>\n      <th>spectral_bandwidth</th>\n      <th>rolloff</th>\n      <th>zero_crossing_rate</th>\n      <th>mfcc1</th>\n      <th>mfcc2</th>\n      <th>mfcc3</th>\n      <th>mfcc4</th>\n      <th>mfcc5</th>\n      <th>...</th>\n      <th>mfcc12</th>\n      <th>mfcc13</th>\n      <th>mfcc14</th>\n      <th>mfcc15</th>\n      <th>mfcc16</th>\n      <th>mfcc17</th>\n      <th>mfcc18</th>\n      <th>mfcc19</th>\n      <th>mfcc20</th>\n      <th>label</th>\n    </tr>\n  </thead>\n  <tbody>\n    <tr>\n      <th>blues.00093.wav</th>\n      <td>0.065906</td>\n      <td>569.930721</td>\n      <td>995.407125</td>\n      <td>927.427725</td>\n      <td>0.021701</td>\n      <td>-350.436188</td>\n      <td>169.545746</td>\n      <td>31.820370</td>\n      <td>16.682835</td>\n      <td>28.710146</td>\n      <td>...</td>\n      <td>1.821690</td>\n      <td>-5.970891</td>\n      <td>-5.259567</td>\n      <td>-0.229211</td>\n      <td>-1.776850</td>\n      <td>-3.713751</td>\n      <td>0.181591</td>\n      <td>2.072390</td>\n      <td>-2.896225</td>\n      <td>blues</td>\n    </tr>\n    <tr>\n      <th>blues.00087.wav</th>\n      <td>0.158098</td>\n      <td>1442.190271</td>\n      <td>1870.534155</td>\n      <td>3083.414688</td>\n      <td>0.050889</td>\n      <td>-155.504929</td>\n      <td>125.638863</td>\n      <td>1.596553</td>\n      <td>45.804520</td>\n      <td>0.900778</td>\n      <td>...</td>\n      <td>-0.792893</td>\n      <td>-7.748057</td>\n      <td>0.413548</td>\n      <td>-7.030262</td>\n      <td>3.997679</td>\n      <td>-6.256611</td>\n      <td>0.958227</td>\n      <td>2.019821</td>\n      <td>-5.742188</td>\n      <td>blues</td>\n    </tr>\n    <tr>\n      <th>blues.00050.wav</th>\n      <td>0.182380</td>\n      <td>1945.848425</td>\n      <td>2082.246626</td>\n      <td>4175.874749</td>\n      <td>0.085806</td>\n      <td>-82.979019</td>\n      <td>107.052124</td>\n      <td>-25.320452</td>\n      <td>57.124989</td>\n      <td>0.085439</td>\n      <td>...</td>\n      <td>12.539581</td>\n      <td>-9.762303</td>\n      <td>2.562253</td>\n      <td>-6.300853</td>\n      <td>2.996785</td>\n      <td>-8.718455</td>\n      <td>-0.326581</td>\n      <td>-2.980347</td>\n      <td>0.712600</td>\n      <td>blues</td>\n    </tr>\n    <tr>\n      <th>blues.00044.wav</th>\n      <td>0.136276</td>\n      <td>2279.124558</td>\n      <td>2375.102120</td>\n      <td>5198.360233</td>\n      <td>0.092570</td>\n      <td>-109.509285</td>\n      <td>86.922409</td>\n      <td>-8.607987</td>\n      <td>64.494560</td>\n      <td>-6.304127</td>\n      <td>...</td>\n      <td>11.087481</td>\n      <td>-5.085794</td>\n      <td>3.976360</td>\n      <td>-12.859742</td>\n      <td>12.343859</td>\n      <td>0.026216</td>\n      <td>-0.741568</td>\n      <td>-5.126620</td>\n      <td>3.303442</td>\n      <td>blues</td>\n    </tr>\n    <tr>\n      <th>blues.00078.wav</th>\n      <td>0.258052</td>\n      <td>2333.685108</td>\n      <td>2227.425609</td>\n      <td>4942.811778</td>\n      <td>0.123863</td>\n      <td>-2.524339</td>\n      <td>101.252716</td>\n      <td>-33.924385</td>\n      <td>41.516888</td>\n      <td>-13.804996</td>\n      <td>...</td>\n      <td>12.506608</td>\n      <td>-13.368823</td>\n      <td>6.112817</td>\n      <td>-9.065890</td>\n      <td>5.033774</td>\n      <td>-11.330277</td>\n      <td>3.166534</td>\n      <td>-4.567592</td>\n      <td>-4.033623</td>\n      <td>blues</td>\n    </tr>\n  </tbody>\n</table>\n<p>5 rows × 26 columns</p>\n</div>"
     },
     "metadata": {},
     "execution_count": 16
    }
   ],
   "source": [
    "data.shape\n",
    "data.head()"
   ]
  },
  {
   "cell_type": "code",
   "execution_count": null,
   "metadata": {},
   "outputs": [],
   "source": []
  }
 ]
}